{
  "cells": [
    {
      "cell_type": "code",
      "execution_count": 2,
      "id": "aaf94e0a",
      "metadata": {
        "id": "aaf94e0a"
      },
      "outputs": [],
      "source": [
        "import numpy as np\n",
        "import matplotlib.pyplot as plt\n",
        "import pandas as pd\n",
        "import seaborn as sns\n",
        "\n",
        "# Entrenamiento de modelos de prueba\n",
        "from sklearn.linear_model import LinearRegression\n",
        "\n",
        "# Evaluación de modelos de prueba\n",
        "from sklearn.metrics import roc_auc_score\n",
        "from sklearn.metrics import mean_squared_error\n",
        "\n",
        "# Partición de train-test set\n",
        "from sklearn.model_selection import train_test_split\n",
        "\n",
        "# Crear datasets\n",
        "from sklearn.datasets import make_regression"
      ]
    },
    {
      "cell_type": "markdown",
      "id": "z4CnDndvBlc6",
      "metadata": {
        "id": "z4CnDndvBlc6"
      },
      "source": [
        "Vamos a crear un dataset sintetico utilizando las librerias de [Sklearn Datasets](https://scikit-learn.org/stable/modules/generated/sklearn.datasets.make_regression.html), en particular nos interesa crear un problema de regresion\n",
        "lineal al que podemos variarle sus parametros"
      ]
    },
    {
      "cell_type": "code",
      "execution_count": 3,
      "id": "65843123",
      "metadata": {
        "colab": {
          "base_uri": "https://localhost:8080/"
        },
        "id": "65843123",
        "outputId": "6589754e-2630-4c3d-cd45-b5f10ad8dc49"
      },
      "outputs": [
        {
          "data": {
            "text/plain": [
              "(1000, 2)"
            ]
          },
          "execution_count": 3,
          "metadata": {},
          "output_type": "execute_result"
        }
      ],
      "source": [
        "# Creamos un dataset de prueba\n",
        "X, y = make_regression(n_samples = 1000,\n",
        "                       n_features = 1,\n",
        "                       noise = 2,\n",
        "                       n_informative = 1,\n",
        "                       random_state = 42)\n",
        "\n",
        "new_data = np.append(X,y.reshape(-1,1),axis=1)\n",
        "new_data.shape"
      ]
    },
    {
      "cell_type": "code",
      "execution_count": 4,
      "id": "a52eSwfzCslx",
      "metadata": {
        "colab": {
          "base_uri": "https://localhost:8080/",
          "height": 206
        },
        "id": "a52eSwfzCslx",
        "outputId": "51d2ef98-ff3b-4182-966e-a03b1a14ba1a"
      },
      "outputs": [
        {
          "data": {
            "text/html": [
              "<div>\n",
              "<style scoped>\n",
              "    .dataframe tbody tr th:only-of-type {\n",
              "        vertical-align: middle;\n",
              "    }\n",
              "\n",
              "    .dataframe tbody tr th {\n",
              "        vertical-align: top;\n",
              "    }\n",
              "\n",
              "    .dataframe thead th {\n",
              "        text-align: right;\n",
              "    }\n",
              "</style>\n",
              "<table border=\"1\" class=\"dataframe\">\n",
              "  <thead>\n",
              "    <tr style=\"text-align: right;\">\n",
              "      <th></th>\n",
              "      <th>feature_1</th>\n",
              "      <th>target</th>\n",
              "    </tr>\n",
              "  </thead>\n",
              "  <tbody>\n",
              "    <tr>\n",
              "      <th>0</th>\n",
              "      <td>-1.758739</td>\n",
              "      <td>-30.118736</td>\n",
              "    </tr>\n",
              "    <tr>\n",
              "      <th>1</th>\n",
              "      <td>1.031845</td>\n",
              "      <td>14.526197</td>\n",
              "    </tr>\n",
              "    <tr>\n",
              "      <th>2</th>\n",
              "      <td>-0.487606</td>\n",
              "      <td>-10.119305</td>\n",
              "    </tr>\n",
              "    <tr>\n",
              "      <th>3</th>\n",
              "      <td>0.186454</td>\n",
              "      <td>1.700188</td>\n",
              "    </tr>\n",
              "    <tr>\n",
              "      <th>4</th>\n",
              "      <td>0.725767</td>\n",
              "      <td>12.345314</td>\n",
              "    </tr>\n",
              "  </tbody>\n",
              "</table>\n",
              "</div>"
            ],
            "text/plain": [
              "   feature_1     target\n",
              "0  -1.758739 -30.118736\n",
              "1   1.031845  14.526197\n",
              "2  -0.487606 -10.119305\n",
              "3   0.186454   1.700188\n",
              "4   0.725767  12.345314"
            ]
          },
          "execution_count": 4,
          "metadata": {},
          "output_type": "execute_result"
        }
      ],
      "source": [
        "df = pd.DataFrame(new_data)\n",
        "\n",
        "new_col = []\n",
        "i = 0\n",
        "for col in df.columns:\n",
        "    if i ==  len(df.columns) - 1:\n",
        "        new_col.append(\"target\")\n",
        "    else :\n",
        "        new_col.append(\"feature_\" + str(i+1))\n",
        "        \n",
        "    i += 1\n",
        "    \n",
        "df.columns = new_col\n",
        "\n",
        "df.head()"
      ]
    },
    {
      "cell_type": "code",
      "execution_count": 5,
      "id": "CBb_QmSZCPFZ",
      "metadata": {
        "colab": {
          "base_uri": "https://localhost:8080/",
          "height": 374
        },
        "id": "CBb_QmSZCPFZ",
        "outputId": "a7c8b051-581d-4267-8bad-5db770be6740"
      },
      "outputs": [
        {
          "data": {
            "image/png": "[encoded data removed]",
            "text/plain": [
              "<Figure size 1584x432 with 2 Axes>"
            ]
          },
          "metadata": {
            "needs_background": "light"
          },
          "output_type": "display_data"
        }
      ],
      "source": [
        "fig,axes = plt.subplots(2,figsize=(22,6))\n",
        "axes[0].scatter(X,y)\n",
        "sns.histplot(X, ax=axes[1]);"
      ]
    },
    {
      "cell_type": "markdown",
      "id": "zTvu6e3KhEKG",
      "metadata": {
        "id": "zTvu6e3KhEKG"
      },
      "source": [
        "## Funciones auxiliares para generar datos anómalos"
      ]
    },
    {
      "cell_type": "code",
      "execution_count": 6,
      "id": "_LqDjS8chDkY",
      "metadata": {
        "id": "_LqDjS8chDkY"
      },
      "outputs": [],
      "source": [
        "def generate_nulls(df: pd.DataFrame,\n",
        "                   cols: list = None,\n",
        "                   percentage: float = 0.05) -> pd.DataFrame:\n",
        "  \"\"\"Con esta función vamos a poder generar nulos en ciertas columnas de nuestro\n",
        "  dataset.\n",
        "  \"\"\"  \n",
        "  cols = df.columns.tolist() if cols is None else cols\n",
        "  seeds = np.random.randint(100, size = len(cols))\n",
        "  \n",
        "  nsamples = np.math.floor(len(df) * percentage)\n",
        "\n",
        "  result = df.copy(deep = True)\n",
        "  for i,col_name in enumerate(cols):\n",
        "      np.random.seed(seeds[i])\n",
        "      \n",
        "      idx_to_remove = result[col_name].sample(n = nsamples).index\n",
        "      result[col_name].iloc[idx_to_remove] = np.nan if result[col_name].dtype in [int,float] else None\n",
        "  \n",
        "  return result\n",
        "\n",
        "def generate_outliers(df: pd.DataFrame,\n",
        "                     cols: list = None,\n",
        "                     extreme_outlier: bool = False,\n",
        "                     percentage: float = 0.02) -> pd.DataFrame:\n",
        "  \"\"\"Con esta función vamos a poder generar outliers en ciertas columnas de nuestro\n",
        "  dataset. Si le damos True a _extreme_outlier_ va a generar outliers con mucho\n",
        "  peso en la regresión\n",
        "  \"\"\"  \n",
        "  seeds = np.random.randint(100, size = len(df))\n",
        "  \n",
        "  nsamples = np.math.floor(len(df) * percentage)\n",
        "  idx_to_change = df.sample(n = nsamples).index\n",
        "\n",
        "  cols = df.columns.tolist() if cols is None else cols\n",
        "\n",
        "  result = df.copy(deep = True)\n",
        "  \n",
        "  for i,col_name in enumerate(cols):\n",
        "    np.random.seed(seeds[i])\n",
        "\n",
        "    if extreme_outlier:\n",
        "      iqr = result[col_name].quantile(0.75) - result[col_name].quantile(0.25)\n",
        "      max_val = 3*iqr\n",
        "      outlier_sign = [1 if np.random.random() < 0.5 else -1 for _ in range(nsamples)]\n",
        "      outliers = np.multiply(outlier_sign, np.random.uniform(low = iqr,\n",
        "                                                          high = max_val,\n",
        "                                                          size = nsamples))\n",
        "      \n",
        "      result[col_name].loc[idx_to_change] = outliers\n",
        "    else:\n",
        "      samples = result[col_name].loc[idx_to_change].values\n",
        "      np.random.shuffle(samples)\n",
        "      result[col_name].iloc[idx_to_change] = samples\n",
        "  return result"
      ]
    },
    {
      "cell_type": "code",
      "execution_count": 7,
      "id": "mmnwCbF1gugP",
      "metadata": {
        "colab": {
          "base_uri": "https://localhost:8080/"
        },
        "id": "mmnwCbF1gugP",
        "outputId": "a27810fe-1f0f-40ef-99ac-dace0fc0eb92"
      },
      "outputs": [],
      "source": [
        "df_outlier = generate_outliers(df,['target'], percentage = 0.01, extreme_outlier = True)"
      ]
    },
    {
      "cell_type": "code",
      "execution_count": 8,
      "id": "hhG41UImwtKg",
      "metadata": {
        "colab": {
          "base_uri": "https://localhost:8080/",
          "height": 298
        },
        "id": "hhG41UImwtKg",
        "outputId": "3e276ea3-e51b-40fd-88b0-847bb2d00a1a"
      },
      "outputs": [
        {
          "data": {
            "text/plain": [
              "<AxesSubplot:xlabel='feature_1', ylabel='target'>"
            ]
          },
          "execution_count": 8,
          "metadata": {},
          "output_type": "execute_result"
        },
        {
          "data": {
            "image/png": "[encoded data removed]",
            "text/plain": [
              "<Figure size 432x288 with 1 Axes>"
            ]
          },
          "metadata": {
            "needs_background": "light"
          },
          "output_type": "display_data"
        }
      ],
      "source": [
        "sns.scatterplot(data = pd.concat([df.assign(dataset = 'set1'),\n",
        "                                 df_outlier.assign(dataset = 'set2')]),\n",
        "                x = 'feature_1',\n",
        "                y = 'target',\n",
        "                hue = 'dataset')"
      ]
    },
    {
      "cell_type": "code",
      "execution_count": 9,
      "id": "29PGZV_B4o79",
      "metadata": {
        "id": "29PGZV_B4o79"
      },
      "outputs": [],
      "source": [
        "columnas_a_modificar = ['feature_1'] \n",
        "df_missing = generate_nulls(df,columnas_a_modificar, percentage = 0.01)"
      ]
    },
    {
      "cell_type": "code",
      "execution_count": 10,
      "id": "1JOMgSjy43uf",
      "metadata": {
        "colab": {
          "base_uri": "https://localhost:8080/"
        },
        "id": "1JOMgSjy43uf",
        "outputId": "5b0f2496-a995-45e5-8335-b652fadc763b"
      },
      "outputs": [
        {
          "data": {
            "text/plain": [
              "feature_1    10\n",
              "target        0\n",
              "dtype: int64"
            ]
          },
          "execution_count": 10,
          "metadata": {},
          "output_type": "execute_result"
        }
      ],
      "source": [
        "df_missing.isna().sum()"
      ]
    },
    {
      "cell_type": "markdown",
      "id": "1ac07426",
      "metadata": {},
      "source": [
        "# Primera Parte"
      ]
    },
    {
      "cell_type": "markdown",
      "id": "N_XkGtvw7J-i",
      "metadata": {
        "id": "N_XkGtvw7J-i"
      },
      "source": [
        "## Ejercicio 1\n",
        "\n",
        "Crear una función que separe los datos en train-validation-test 70-20-10\n",
        "\n",
        "\n",
        "Hints: \n",
        "\n",
        "* Usar Indexing y slicing\n",
        "* Usar np.random.[...]"
      ]
    },
    {
      "cell_type": "code",
      "execution_count": 13,
      "id": "446b3045",
      "metadata": {},
      "outputs": [],
      "source": [
        "def split(df: pd.DataFrame, train_size: float, val_size: float, test_size: float, target_index: int): #suponiendo que nuestro target es solo una columna\n",
        "\n",
        "\n",
        "\n",
        "    from sklearn.model_selection import train_test_split\n",
        "\n",
        "    new_col = []\n",
        "    features = []\n",
        "    i = 0\n",
        "    for col in df.columns:\n",
        "        if i ==  target_index:\n",
        "            new_col.append(\"target\")\n",
        "        else :\n",
        "            new_col.append(\"feature_\" + str(i+1))\n",
        "            features.append(\"feature_\" + str(i+1))\n",
        "        i += 1\n",
        "        \n",
        "    df.columns = new_col\n",
        "\n",
        "    X_train, X_test, Y_train, Y_test = train_test_split(df[features],\n",
        "                                                        df[\"target\"],\n",
        "                                                        train_size = train_size)\n",
        "    if val_size > 0:\n",
        "        X_val, X_test, Y_val, Y_test = train_test_split(X_test,\n",
        "                                                        Y_test,\n",
        "                                                        train_size = val_size/(val_size+test_size))\n",
        "\n",
        "        return X_train, X_val, X_test, Y_train, Y_val, Y_test\n",
        "    return X_train, X_test, Y_train, Y_test"
      ]
    },
    {
      "cell_type": "code",
      "execution_count": 14,
      "id": "62552dfa",
      "metadata": {},
      "outputs": [
        {
          "name": "stdout",
          "output_type": "stream",
          "text": [
            "700\n",
            "200\n",
            "100\n"
          ]
        }
      ],
      "source": [
        "X_train, X_val, X_test, Y_train, Y_val, Y_test = split(df, 0.7, 0.2, 0.1, 1)\n",
        "\n",
        "print(len(X_train))\n",
        "print(len(X_val))\n",
        "print(len(X_test))"
      ]
    },
    {
      "cell_type": "markdown",
      "id": "c51994ab",
      "metadata": {
        "id": "c51994ab"
      },
      "source": [
        "## Ejercicio 2\n",
        "\n",
        "Utilizando la funcion `generate_nulls`. Insertar en la columna de features un 5% de valores nulos. Con esto, generar una función que les permita rellenar estos valores con la mediana, y otro con la media.\n",
        "\n",
        "Compare los __scores__ obtenidos en las regresiones cuando tiene el dataset completo, y con los dos métodos de imputación. ¿Cambian mucho?"
      ]
    },
    {
      "cell_type": "code",
      "execution_count": 15,
      "id": "b8c44b25",
      "metadata": {},
      "outputs": [
        {
          "data": {
            "text/plain": [
              "0.025300612234888248"
            ]
          },
          "execution_count": 15,
          "metadata": {},
          "output_type": "execute_result"
        }
      ],
      "source": [
        "df.feature_1.median()"
      ]
    },
    {
      "cell_type": "code",
      "execution_count": 17,
      "id": "00028305",
      "metadata": {},
      "outputs": [
        {
          "name": "stdout",
          "output_type": "stream",
          "text": [
            "9      1.066675\n",
            "38    -1.424748\n",
            "51    -0.459361\n",
            "80     1.237816\n",
            "83     0.254421\n",
            "102   -0.034988\n",
            "112    0.865755\n",
            "155    0.629629\n",
            "156    0.024510\n",
            "162    0.208864\n",
            "169   -0.981509\n",
            "173    0.751933\n",
            "198   -1.057711\n",
            "205    2.720169\n",
            "219    0.690144\n",
            "220   -1.024388\n",
            "223   -1.703382\n",
            "230   -0.990536\n",
            "232    1.158596\n",
            "260    0.491919\n",
            "279   -1.412304\n",
            "299   -1.222128\n",
            "324   -0.883857\n",
            "328   -0.310267\n",
            "334   -0.839218\n",
            "446   -1.012104\n",
            "464    0.650201\n",
            "497   -0.393339\n",
            "514    1.032465\n",
            "527    0.224092\n",
            "585   -0.003603\n",
            "590    0.632408\n",
            "602    0.478980\n",
            "635   -1.435862\n",
            "641    1.754794\n",
            "643    0.223884\n",
            "657   -0.219101\n",
            "660   -0.985726\n",
            "689    1.632411\n",
            "698    0.058209\n",
            "703   -1.889541\n",
            "717    1.188393\n",
            "755    0.472597\n",
            "761   -1.702584\n",
            "785   -1.125489\n",
            "857    1.126565\n",
            "863    0.271579\n",
            "894    0.686051\n",
            "962   -1.070892\n",
            "972    0.177701\n",
            "Name: feature_1, dtype: float64\n"
          ]
        }
      ],
      "source": [
        "df_con_ceros = generate_nulls(df, [\"feature_1\"], 0.05)\n",
        "nan_rows = df_con_ceros[df_con_ceros.isna().any(1)]\n",
        "print(df[df_con_ceros.isna().any(1)][\"feature_1\"])"
      ]
    },
    {
      "cell_type": "code",
      "execution_count": 18,
      "id": "55e46654",
      "metadata": {},
      "outputs": [
        {
          "name": "stdout",
          "output_type": "stream",
          "text": [
            "feature_1    50\n",
            "target        0\n",
            "dtype: int64\n",
            "nueva mediana = 0.019718887349076106\n"
          ]
        }
      ],
      "source": [
        "print(df_con_ceros.isna().sum())\n",
        "print(\"nueva mediana = {}\".format(df_con_ceros.feature_1.median()))"
      ]
    },
    {
      "cell_type": "code",
      "execution_count": 20,
      "id": "4cf6c76e",
      "metadata": {},
      "outputs": [
        {
          "name": "stdout",
          "output_type": "stream",
          "text": [
            "feature_1    0\n",
            "target       0\n",
            "dtype: int64\n",
            "nueva mediana = 0.019718887349076106\n"
          ]
        }
      ],
      "source": [
        "df_con_mediana = df_con_ceros.copy(deep=True)\n",
        "df_con_mediana['feature_1'] = df_con_ceros['feature_1'].replace(np.nan, df_con_ceros.feature_1.median())\n",
        "print(df_con_mediana.isna().sum())\n",
        "print(\"nueva mediana = {}\".format(df_con_mediana.feature_1.median()))"
      ]
    },
    {
      "cell_type": "code",
      "execution_count": 21,
      "id": "b6bce10b",
      "metadata": {},
      "outputs": [
        {
          "data": {
            "text/plain": [
              "9      0.981514\n",
              "38     1.013840\n",
              "51     1.042927\n",
              "80     0.984070\n",
              "83     0.922495\n",
              "102    1.563582\n",
              "112    0.977223\n",
              "155    0.968682\n",
              "156    0.195482\n",
              "162    0.905590\n",
              "169    1.020090\n",
              "173    0.973776\n",
              "198    1.018643\n",
              "205    0.992751\n",
              "219    0.971428\n",
              "220    1.019249\n",
              "223    1.011576\n",
              "230    1.019907\n",
              "232    0.982980\n",
              "260    0.959914\n",
              "279    1.013962\n",
              "299    1.016135\n",
              "324    1.022310\n",
              "328    1.063555\n",
              "334    1.023497\n",
              "446    1.019483\n",
              "464    0.969673\n",
              "497    1.050132\n",
              "514    0.980901\n",
              "527    0.912006\n",
              "585    6.473608\n",
              "590    0.968819\n",
              "602    0.958831\n",
              "635    1.013733\n",
              "641    0.988763\n",
              "643    0.911924\n",
              "657    1.089999\n",
              "660    1.020004\n",
              "689    0.987920\n",
              "698    0.661238\n",
              "703    1.010436\n",
              "717    0.983407\n",
              "755    0.958276\n",
              "761    1.011582\n",
              "785    1.017520\n",
              "857    0.982496\n",
              "863    0.927392\n",
              "894    0.971257\n",
              "962    1.018414\n",
              "972    0.889033\n",
              "Name: feature_1, dtype: float64"
            ]
          },
          "execution_count": 21,
          "metadata": {},
          "output_type": "execute_result"
        }
      ],
      "source": [
        "(df[df_con_ceros.isna().any(1)][\"feature_1\"] - df_con_mediana[df_con_ceros.isna().any(1)][\"feature_1\"])/df[df_con_ceros.isna().any(1)][\"feature_1\"]"
      ]
    },
    {
      "cell_type": "code",
      "execution_count": 22,
      "id": "2d4ef35e",
      "metadata": {},
      "outputs": [
        {
          "name": "stdout",
          "output_type": "stream",
          "text": [
            "feature_1    0\n",
            "target       0\n",
            "dtype: int64\n",
            "nueva media = 0.021898874268597386\n"
          ]
        }
      ],
      "source": [
        "df_con_media = df_con_ceros.copy(deep=True)\n",
        "df_con_media['feature_1'] = df_con_ceros['feature_1'].replace(np.nan, df_con_ceros.feature_1.mean())\n",
        "\n",
        "print(df_con_media.isna().sum())\n",
        "print(\"nueva media = {}\".format(df_con_media.feature_1.mean()))"
      ]
    },
    {
      "cell_type": "code",
      "execution_count": 23,
      "id": "882678e4",
      "metadata": {},
      "outputs": [
        {
          "data": {
            "text/plain": [
              "9      0.979470\n",
              "38     1.015370\n",
              "51     1.047672\n",
              "80     0.982308\n",
              "83     0.913927\n",
              "102    1.625888\n",
              "112    0.974705\n",
              "155    0.965219\n",
              "156    0.106539\n",
              "162    0.895152\n",
              "169    1.022311\n",
              "173    0.970877\n",
              "198    1.020704\n",
              "205    0.991949\n",
              "219    0.968269\n",
              "220    1.021378\n",
              "223    1.012856\n",
              "230    1.022108\n",
              "232    0.981099\n",
              "260    0.955483\n",
              "279    1.015506\n",
              "299    1.017919\n",
              "324    1.024776\n",
              "328    1.070581\n",
              "334    1.026094\n",
              "446    1.021637\n",
              "464    0.966320\n",
              "497    1.055674\n",
              "514    0.978790\n",
              "527    0.902278\n",
              "585    7.078733\n",
              "590    0.965372\n",
              "602    0.954280\n",
              "635    1.015251\n",
              "641    0.987521\n",
              "643    0.902187\n",
              "657    1.099949\n",
              "660    1.022216\n",
              "689    0.986585\n",
              "698    0.623787\n",
              "703    1.011590\n",
              "717    0.981573\n",
              "755    0.953663\n",
              "761    1.012862\n",
              "785    1.019457\n",
              "857    0.980561\n",
              "863    0.919365\n",
              "894    0.968080\n",
              "962    1.020449\n",
              "972    0.876766\n",
              "Name: feature_1, dtype: float64"
            ]
          },
          "execution_count": 23,
          "metadata": {},
          "output_type": "execute_result"
        }
      ],
      "source": [
        "(df[df_con_ceros.isna().any(1)][\"feature_1\"]-df_con_media[df_con_ceros.isna().any(1)][\"feature_1\"])/df[df_con_ceros.isna().any(1)][\"feature_1\"]"
      ]
    },
    {
      "cell_type": "code",
      "execution_count": 24,
      "id": "99e08b25",
      "metadata": {},
      "outputs": [
        {
          "name": "stdout",
          "output_type": "stream",
          "text": [
            "mediana original: 0.025300612234888248 \n",
            "mediana rellenando nan con mediana: 0.019718887349076106 \n",
            "mediana rellenando nan con media: 0.0218988742685974\n",
            "\n",
            "media original: 0.01933205582232549 \n",
            "media rellenando nan con mediana: 0.021789874922621313 \n",
            "media rellenando nan con media: 0.021898874268597386\n"
          ]
        }
      ],
      "source": [
        "print(\"mediana original: {} \\nmediana rellenando nan con mediana: {} \\nmediana rellenando nan con media: {}\".format(df.feature_1.median(),df_con_mediana.feature_1.median(),df_con_media.feature_1.median()))\n",
        "print(\"\\nmedia original: {} \\nmedia rellenando nan con mediana: {} \\nmedia rellenando nan con media: {}\".format(df.feature_1.mean(),df_con_mediana.feature_1.mean(),df_con_media.feature_1.mean()))"
      ]
    },
    {
      "cell_type": "markdown",
      "id": "87b8ecf0",
      "metadata": {},
      "source": [
        "Conclusión: para este df rellenar con la media podría ser una mejor aproximación dado que las nuevas media y mediana se encuentran más cerca de las originales en comparación con rellenar los NaN con la mediana"
      ]
    },
    {
      "cell_type": "code",
      "execution_count": 25,
      "id": "de6919a5",
      "metadata": {
        "id": "de6919a5",
        "outputId": "55fef8af-0856-44b5-b46a-3f8be4d28fb9"
      },
      "outputs": [],
      "source": [
        "def mean_imputer(df: pd.DataFrame, columns: str) -> pd.DataFrame:\n",
        "    df_con_media = df.copy(deep=True)\n",
        "    df_con_media[columns] = df[columns].replace(np.nan, df[columns].mean())\n",
        "    return df_con_media\n",
        "    "
      ]
    },
    {
      "cell_type": "code",
      "execution_count": 26,
      "id": "49f06919",
      "metadata": {},
      "outputs": [
        {
          "data": {
            "text/html": [
              "<div>\n",
              "<style scoped>\n",
              "    .dataframe tbody tr th:only-of-type {\n",
              "        vertical-align: middle;\n",
              "    }\n",
              "\n",
              "    .dataframe tbody tr th {\n",
              "        vertical-align: top;\n",
              "    }\n",
              "\n",
              "    .dataframe thead th {\n",
              "        text-align: right;\n",
              "    }\n",
              "</style>\n",
              "<table border=\"1\" class=\"dataframe\">\n",
              "  <thead>\n",
              "    <tr style=\"text-align: right;\">\n",
              "      <th></th>\n",
              "      <th>feature_1</th>\n",
              "      <th>target</th>\n",
              "    </tr>\n",
              "  </thead>\n",
              "  <tbody>\n",
              "    <tr>\n",
              "      <th>0</th>\n",
              "      <td>-1.758739</td>\n",
              "      <td>-30.118736</td>\n",
              "    </tr>\n",
              "    <tr>\n",
              "      <th>1</th>\n",
              "      <td>1.031845</td>\n",
              "      <td>14.526197</td>\n",
              "    </tr>\n",
              "    <tr>\n",
              "      <th>2</th>\n",
              "      <td>-0.487606</td>\n",
              "      <td>-10.119305</td>\n",
              "    </tr>\n",
              "    <tr>\n",
              "      <th>3</th>\n",
              "      <td>0.186454</td>\n",
              "      <td>1.700188</td>\n",
              "    </tr>\n",
              "    <tr>\n",
              "      <th>4</th>\n",
              "      <td>0.725767</td>\n",
              "      <td>12.345314</td>\n",
              "    </tr>\n",
              "    <tr>\n",
              "      <th>...</th>\n",
              "      <td>...</td>\n",
              "      <td>...</td>\n",
              "    </tr>\n",
              "    <tr>\n",
              "      <th>995</th>\n",
              "      <td>-1.918771</td>\n",
              "      <td>-30.210145</td>\n",
              "    </tr>\n",
              "    <tr>\n",
              "      <th>996</th>\n",
              "      <td>0.482472</td>\n",
              "      <td>9.182647</td>\n",
              "    </tr>\n",
              "    <tr>\n",
              "      <th>997</th>\n",
              "      <td>0.241962</td>\n",
              "      <td>4.855134</td>\n",
              "    </tr>\n",
              "    <tr>\n",
              "      <th>998</th>\n",
              "      <td>1.366874</td>\n",
              "      <td>25.785771</td>\n",
              "    </tr>\n",
              "    <tr>\n",
              "      <th>999</th>\n",
              "      <td>-1.059214</td>\n",
              "      <td>-16.584161</td>\n",
              "    </tr>\n",
              "  </tbody>\n",
              "</table>\n",
              "<p>1000 rows × 2 columns</p>\n",
              "</div>"
            ],
            "text/plain": [
              "     feature_1     target\n",
              "0    -1.758739 -30.118736\n",
              "1     1.031845  14.526197\n",
              "2    -0.487606 -10.119305\n",
              "3     0.186454   1.700188\n",
              "4     0.725767  12.345314\n",
              "..         ...        ...\n",
              "995  -1.918771 -30.210145\n",
              "996   0.482472   9.182647\n",
              "997   0.241962   4.855134\n",
              "998   1.366874  25.785771\n",
              "999  -1.059214 -16.584161\n",
              "\n",
              "[1000 rows x 2 columns]"
            ]
          },
          "execution_count": 26,
          "metadata": {},
          "output_type": "execute_result"
        }
      ],
      "source": [
        "nuevodf = mean_imputer(df_con_ceros, \"feature_1\") \n",
        "nuevodf"
      ]
    },
    {
      "cell_type": "code",
      "execution_count": 27,
      "id": "Uq2ZEyio66-p",
      "metadata": {
        "id": "Uq2ZEyio66-p"
      },
      "outputs": [],
      "source": [
        "def median_imputer(df: pd.DataFrame, columns: str) -> pd.DataFrame:\n",
        "    df_con_mediana = df.copy(deep=True)\n",
        "    df_con_mediana[columns] = df[columns].replace(np.nan, df[columns].median())\n",
        "    return df_con_mediana\n",
        "    "
      ]
    },
    {
      "cell_type": "code",
      "execution_count": 28,
      "id": "827fb37a",
      "metadata": {},
      "outputs": [
        {
          "data": {
            "text/html": [
              "<div>\n",
              "<style scoped>\n",
              "    .dataframe tbody tr th:only-of-type {\n",
              "        vertical-align: middle;\n",
              "    }\n",
              "\n",
              "    .dataframe tbody tr th {\n",
              "        vertical-align: top;\n",
              "    }\n",
              "\n",
              "    .dataframe thead th {\n",
              "        text-align: right;\n",
              "    }\n",
              "</style>\n",
              "<table border=\"1\" class=\"dataframe\">\n",
              "  <thead>\n",
              "    <tr style=\"text-align: right;\">\n",
              "      <th></th>\n",
              "      <th>feature_1</th>\n",
              "      <th>target</th>\n",
              "    </tr>\n",
              "  </thead>\n",
              "  <tbody>\n",
              "    <tr>\n",
              "      <th>0</th>\n",
              "      <td>-1.758739</td>\n",
              "      <td>-30.118736</td>\n",
              "    </tr>\n",
              "    <tr>\n",
              "      <th>1</th>\n",
              "      <td>1.031845</td>\n",
              "      <td>14.526197</td>\n",
              "    </tr>\n",
              "    <tr>\n",
              "      <th>2</th>\n",
              "      <td>-0.487606</td>\n",
              "      <td>-10.119305</td>\n",
              "    </tr>\n",
              "    <tr>\n",
              "      <th>3</th>\n",
              "      <td>0.186454</td>\n",
              "      <td>1.700188</td>\n",
              "    </tr>\n",
              "    <tr>\n",
              "      <th>4</th>\n",
              "      <td>0.725767</td>\n",
              "      <td>12.345314</td>\n",
              "    </tr>\n",
              "    <tr>\n",
              "      <th>...</th>\n",
              "      <td>...</td>\n",
              "      <td>...</td>\n",
              "    </tr>\n",
              "    <tr>\n",
              "      <th>995</th>\n",
              "      <td>-1.918771</td>\n",
              "      <td>-30.210145</td>\n",
              "    </tr>\n",
              "    <tr>\n",
              "      <th>996</th>\n",
              "      <td>0.482472</td>\n",
              "      <td>9.182647</td>\n",
              "    </tr>\n",
              "    <tr>\n",
              "      <th>997</th>\n",
              "      <td>0.241962</td>\n",
              "      <td>4.855134</td>\n",
              "    </tr>\n",
              "    <tr>\n",
              "      <th>998</th>\n",
              "      <td>1.366874</td>\n",
              "      <td>25.785771</td>\n",
              "    </tr>\n",
              "    <tr>\n",
              "      <th>999</th>\n",
              "      <td>-1.059214</td>\n",
              "      <td>-16.584161</td>\n",
              "    </tr>\n",
              "  </tbody>\n",
              "</table>\n",
              "<p>1000 rows × 2 columns</p>\n",
              "</div>"
            ],
            "text/plain": [
              "     feature_1     target\n",
              "0    -1.758739 -30.118736\n",
              "1     1.031845  14.526197\n",
              "2    -0.487606 -10.119305\n",
              "3     0.186454   1.700188\n",
              "4     0.725767  12.345314\n",
              "..         ...        ...\n",
              "995  -1.918771 -30.210145\n",
              "996   0.482472   9.182647\n",
              "997   0.241962   4.855134\n",
              "998   1.366874  25.785771\n",
              "999  -1.059214 -16.584161\n",
              "\n",
              "[1000 rows x 2 columns]"
            ]
          },
          "execution_count": 28,
          "metadata": {},
          "output_type": "execute_result"
        }
      ],
      "source": [
        "nuevodf = median_imputer(df_con_ceros, \"feature_1\") \n",
        "nuevodf"
      ]
    },
    {
      "cell_type": "markdown",
      "id": "808ffcaa",
      "metadata": {
        "id": "808ffcaa"
      },
      "source": [
        "## Ejercicio 3\n",
        "\n",
        "Los resultados del ejercicio 2 ¿Cómo se ven afectados cuando empezamos a a tener muchos más valores imputados? Pruebe con distintos porcentajes."
      ]
    },
    {
      "cell_type": "code",
      "execution_count": 38,
      "id": "6b5U2d0C6agm",
      "metadata": {
        "id": "6b5U2d0C6agm"
      },
      "outputs": [],
      "source": [
        "df1 = mean_imputer(generate_nulls(df, [\"feature_1\"], 0.05),\"feature_1\")\n",
        "df2 = mean_imputer(generate_nulls(df, [\"feature_1\"], 0.20),\"feature_1\")\n",
        "df3 = mean_imputer(generate_nulls(df, [\"feature_1\"], 0.50),\"feature_1\")\n",
        "df4 = mean_imputer(generate_nulls(df, [\"feature_1\"], 0.80),\"feature_1\")\n",
        "#mediana_original = df[\"feature_1\"].median()\n",
        "#media_original = df[\"feature_1\"].mean()\n",
        "\n",
        "#print(abs(median_imputer(df_con_ceros, \"feature_1\")[\"feature_1\"].median() - mediana_original)/mediana_original, abs(median_imputer(df_con_ceros, \"feature_1\")[\"feature_1\"].mean() - media_original)/media_original)\n",
        "#print(abs(mean_imputer(df_con_ceros, \"feature_1\")[\"feature_1\"].median() - mediana_original)/mediana_original, abs(mean_imputer(df_con_ceros, \"feature_1\")[\"feature_1\"].mean() - media_original)/media_original)\n"
      ]
    },
    {
      "cell_type": "code",
      "execution_count": 62,
      "id": "5202ef29",
      "metadata": {},
      "outputs": [
        {
          "data": {
            "text/plain": [
              "[<matplotlib.lines.Line2D at 0x1f245ab6250>]"
            ]
          },
          "execution_count": 62,
          "metadata": {},
          "output_type": "execute_result"
        },
        {
          "data": {
            "image/png": "[encoded data removed]",
            "text/plain": [
              "<Figure size 1080x936 with 1 Axes>"
            ]
          },
          "metadata": {
            "needs_background": "light"
          },
          "output_type": "display_data"
        }
      ],
      "source": [
        "from re import S\n",
        "\n",
        "\n",
        "lr = LinearRegression(fit_intercept=True)\n",
        "lr1 = LinearRegression(fit_intercept=True)\n",
        "lr2 = LinearRegression(fit_intercept=True)\n",
        "lr3 = LinearRegression(fit_intercept=True)\n",
        "lr4 = LinearRegression(fit_intercept=True)\n",
        "\n",
        "lr.fit(np.array(df.feature_1).reshape(-1,1),np.array(df.target).reshape(-1,1))\n",
        "lr1.fit(np.array(df1.feature_1).reshape(-1,1),np.array(df1.target).reshape(-1,1))\n",
        "lr2.fit(np.array(df2.feature_1).reshape(-1,1),np.array(df2.target).reshape(-1,1))\n",
        "lr3.fit(np.array(df3.feature_1).reshape(-1,1),np.array(df3.target).reshape(-1,1))\n",
        "lr4.fit(np.array(df4.feature_1).reshape(-1,1),np.array(df4.target).reshape(-1,1))\n",
        "\n",
        "xspace = np.linspace(-4,4,1000)\n",
        "\n",
        "yhat=lr.predict(xspace.reshape(1000,1))\n",
        "yhat_1=lr1.predict(xspace.reshape(1000,1))\n",
        "yhat_2=lr2.predict(xspace.reshape(1000,1))\n",
        "yhat_3=lr3.predict(xspace.reshape(1000,1))\n",
        "yhat_4=lr4.predict(xspace.reshape(1000,1))\n",
        "\n",
        "f ,ax = plt.subplots(figsize=(15,13))\n",
        "ax.scatter(df.feature_1,df.target,s=10)\n",
        "ax.plot(xspace,yhat, color='blue')\n",
        "ax.plot(xspace,yhat_1, color='green')\n",
        "ax.plot(xspace,yhat_2, color='yellow')\n",
        "ax.plot(xspace,yhat_3, color='orange')\n",
        "ax.plot(xspace,yhat_4, color='red')"
      ]
    },
    {
      "cell_type": "code",
      "execution_count": 63,
      "id": "3e412671",
      "metadata": {},
      "outputs": [
        {
          "name": "stdout",
          "output_type": "stream",
          "text": [
            "0.9855792900364626\n",
            "0.9205931172113309\n",
            "0.8247854752485749\n",
            "0.4728704160822177\n",
            "0.17625225794806498\n"
          ]
        }
      ],
      "source": [
        "print(lr.score(np.array(df.feature_1).reshape(-1,1),np.array(df.target).reshape(-1,1)))\n",
        "print(lr1.score(np.array(df1.feature_1).reshape(-1,1),np.array(df1.target).reshape(-1,1)))\n",
        "print(lr2.score(np.array(df2.feature_1).reshape(-1,1),np.array(df2.target).reshape(-1,1)))\n",
        "print(lr3.score(np.array(df3.feature_1).reshape(-1,1),np.array(df3.target).reshape(-1,1)))\n",
        "print(lr2.score(np.array(df4.feature_1).reshape(-1,1),np.array(df4.target).reshape(-1,1)))"
      ]
    },
    {
      "cell_type": "markdown",
      "id": "ceb3f711",
      "metadata": {},
      "source": [
        "Se probaron con diferentes porcentajes de valores imputados (5, 20, 50 y 80%) y si bien existen diferencias entre las rectas de regresión para cada dataframe (alejándose cada vez más de la regresión hecha con el dataframe original), gráficamente no son muy significativas. Sin embargo se ve una caída notable en el score de estas regresiones al aumentar la cantidad de valores imputados."
      ]
    },
    {
      "cell_type": "markdown",
      "id": "b77ad81a",
      "metadata": {
        "id": "b77ad81a"
      },
      "source": [
        "## Ejercicio 4\n",
        "\n",
        "Utilizando la funcion `generate_outliers` generar puntos extremos dentro de los datos que generamos anteriormente. En este ejercicio dejar setteado `extreme_outliers` como `False` y observe como variando el porcentaje de los mismos la regresión comienza a afectarse."
      ]
    },
    {
      "cell_type": "code",
      "execution_count": null,
      "id": "VKkw3PwY8JC7",
      "metadata": {
        "id": "VKkw3PwY8JC7"
      },
      "outputs": [],
      "source": []
    },
    {
      "cell_type": "markdown",
      "id": "d481762b",
      "metadata": {
        "id": "d481762b"
      },
      "source": [
        "## Ejercicio 5\n",
        "\n",
        "Generar ahora valores extremos utilizando `extreme_outliers`. ¿Cómo afecta esto a la regresión? ¿Se observa algo interesante?\n"
      ]
    },
    {
      "cell_type": "code",
      "execution_count": 53,
      "id": "34b43474",
      "metadata": {
        "id": "34b43474"
      },
      "outputs": [
        {
          "data": {
            "text/plain": [
              "<AxesSubplot:xlabel='feature_1', ylabel='target'>"
            ]
          },
          "execution_count": 53,
          "metadata": {},
          "output_type": "execute_result"
        },
        {
          "data": {
            "image/png": "[encoded data removed]",
            "text/plain": [
              "<Figure size 432x288 with 1 Axes>"
            ]
          },
          "metadata": {
            "needs_background": "light"
          },
          "output_type": "display_data"
        }
      ],
      "source": [
        "df_o = generate_outliers(df,['target'], percentage = 0.05, extreme_outlier = True)\n",
        "#df_o = generate_outliers(df,['target'], percentage = 0.25, extreme_outlier = True)\n",
        "\n",
        "X_train, X_val, X_test, Y_train, Y_val, Y_test = split(df, 0.7, 0.2, 0.1, 1)\n",
        "X_train_o, X_val_o, X_test_o, Y_train_o, Y_val_o, Y_test_o = split(df_o, 0.7, 0.2, 0.1, 1)\n",
        "\n",
        "sns.scatterplot(data = pd.concat([df.assign(dataset = 'set1'),\n",
        "                                 df_o.assign(dataset = 'set2')]),\n",
        "                x = 'feature_1',\n",
        "                y = 'target',\n",
        "                hue = 'dataset') "
      ]
    },
    {
      "cell_type": "code",
      "execution_count": 64,
      "id": "3e8863f6",
      "metadata": {},
      "outputs": [
        {
          "data": {
            "image/png": "[encoded data removed]",
            "text/plain": [
              "<Figure size 432x288 with 1 Axes>"
            ]
          },
          "metadata": {
            "needs_background": "light"
          },
          "output_type": "display_data"
        },
        {
          "name": "stdout",
          "output_type": "stream",
          "text": [
            "0.9855792900364626\n",
            "0.6836919779987737\n"
          ]
        }
      ],
      "source": [
        "lr = LinearRegression(fit_intercept=True)\n",
        "lr_o = LinearRegression(fit_intercept=True)\n",
        "lr.fit(np.array(df.feature_1).reshape(-1,1),np.array(df.target).reshape(-1,1))\n",
        "lr_o.fit(np.array(df_o.feature_1).reshape(-1,1),np.array(df_o.target).reshape(-1,1))\n",
        "\n",
        "xspace = np.linspace(-4,4,1000)\n",
        "yhat=lr.predict(xspace.reshape(1000,1))\n",
        "yhat_o=lr_o.predict(xspace.reshape(1000,1))\n",
        "\n",
        "f ,ax = plt.subplots()\n",
        "ax.scatter(df_o.feature_1,df_o.target,s=10)\n",
        "ax.plot(xspace,yhat, color='red')\n",
        "ax.plot(xspace,yhat_o, color='yellow')\n",
        "plt.show()\n",
        "print(lr.score(np.array(df.feature_1).reshape(-1,1),np.array(df.target).reshape(-1,1)))\n",
        "print(lr_o.score(np.array(df_o.feature_1).reshape(-1,1),np.array(df_o.target).reshape(-1,1)))"
      ]
    },
    {
      "cell_type": "markdown",
      "id": "ea2fb900",
      "metadata": {},
      "source": [
        "Al agregar outliers extremos la Regresión y su score se ven afectados de mayor manera según el porcentaje de outliers que se agreguen"
      ]
    },
    {
      "cell_type": "markdown",
      "id": "tkxP2BID8XqM",
      "metadata": {
        "id": "tkxP2BID8XqM"
      },
      "source": [
        "## Ejercicio 6\n",
        "\n",
        "utilizando el archivo CSV `clase3v2.csv`, vamos a cargarlo como dataframe y deberemos:\n",
        " - Generar splits de training/test\n",
        " - Limpiar/Imputar datos Nulos\n",
        " - Entrenar un modelo de regresión multivariada\n",
        " - Reportar $R^2$ en test."
      ]
    },
    {
      "cell_type": "code",
      "execution_count": 66,
      "id": "vv1_2NZ78w9x",
      "metadata": {
        "id": "vv1_2NZ78w9x"
      },
      "outputs": [],
      "source": [
        "data_happiness = pd.read_csv('clase3v2.csv', delimiter = ';')"
      ]
    },
    {
      "cell_type": "code",
      "execution_count": 67,
      "id": "18d33888",
      "metadata": {},
      "outputs": [
        {
          "data": {
            "text/plain": [
              "feature_1        0\n",
              "feature_2        0\n",
              "feature_3       25\n",
              "feature_4        0\n",
              "feature_5       15\n",
              "feature_6        0\n",
              "target_value     0\n",
              "dtype: int64"
            ]
          },
          "execution_count": 67,
          "metadata": {},
          "output_type": "execute_result"
        }
      ],
      "source": [
        "data_happiness.isna().sum()"
      ]
    },
    {
      "cell_type": "code",
      "execution_count": 68,
      "id": "19ac899c",
      "metadata": {},
      "outputs": [
        {
          "data": {
            "image/png": "[encoded data removed]",
            "text/plain": [
              "<Figure size 1080x180 with 6 Axes>"
            ]
          },
          "metadata": {
            "needs_background": "light"
          },
          "output_type": "display_data"
        }
      ],
      "source": [
        "sns.pairplot(data_happiness,x_vars=[\"feature_1\",\"feature_2\",\"feature_3\",\"feature_4\",\"feature_5\",\"feature_6\"],y_vars='target_value')\n",
        "plt.show()"
      ]
    },
    {
      "cell_type": "code",
      "execution_count": 69,
      "id": "da273d4a",
      "metadata": {},
      "outputs": [
        {
          "data": {
            "text/html": [
              "<div>\n",
              "<style scoped>\n",
              "    .dataframe tbody tr th:only-of-type {\n",
              "        vertical-align: middle;\n",
              "    }\n",
              "\n",
              "    .dataframe tbody tr th {\n",
              "        vertical-align: top;\n",
              "    }\n",
              "\n",
              "    .dataframe thead th {\n",
              "        text-align: right;\n",
              "    }\n",
              "</style>\n",
              "<table border=\"1\" class=\"dataframe\">\n",
              "  <thead>\n",
              "    <tr style=\"text-align: right;\">\n",
              "      <th></th>\n",
              "      <th>feature_1</th>\n",
              "      <th>feature_2</th>\n",
              "      <th>feature_3</th>\n",
              "      <th>feature_4</th>\n",
              "      <th>feature_5</th>\n",
              "      <th>feature_6</th>\n",
              "      <th>target_value</th>\n",
              "    </tr>\n",
              "  </thead>\n",
              "  <tbody>\n",
              "    <tr>\n",
              "      <th>0</th>\n",
              "      <td>3.669506</td>\n",
              "      <td>2.863605</td>\n",
              "      <td>NaN</td>\n",
              "      <td>2.948632</td>\n",
              "      <td>NaN</td>\n",
              "      <td>-9.364512</td>\n",
              "      <td>7.564543</td>\n",
              "    </tr>\n",
              "    <tr>\n",
              "      <th>1</th>\n",
              "      <td>13.505001</td>\n",
              "      <td>4.482330</td>\n",
              "      <td>NaN</td>\n",
              "      <td>0.770769</td>\n",
              "      <td>NaN</td>\n",
              "      <td>-3.706287</td>\n",
              "      <td>32.866898</td>\n",
              "    </tr>\n",
              "    <tr>\n",
              "      <th>2</th>\n",
              "      <td>-5.736774</td>\n",
              "      <td>-1.030994</td>\n",
              "      <td>NaN</td>\n",
              "      <td>0.907981</td>\n",
              "      <td>NaN</td>\n",
              "      <td>5.332656</td>\n",
              "      <td>-20.922094</td>\n",
              "    </tr>\n",
              "    <tr>\n",
              "      <th>3</th>\n",
              "      <td>-0.019325</td>\n",
              "      <td>1.909841</td>\n",
              "      <td>NaN</td>\n",
              "      <td>0.137427</td>\n",
              "      <td>NaN</td>\n",
              "      <td>3.400036</td>\n",
              "      <td>1.433380</td>\n",
              "    </tr>\n",
              "    <tr>\n",
              "      <th>4</th>\n",
              "      <td>6.079670</td>\n",
              "      <td>1.528345</td>\n",
              "      <td>NaN</td>\n",
              "      <td>0.746475</td>\n",
              "      <td>NaN</td>\n",
              "      <td>-11.486688</td>\n",
              "      <td>11.867943</td>\n",
              "    </tr>\n",
              "    <tr>\n",
              "      <th>5</th>\n",
              "      <td>-6.563463</td>\n",
              "      <td>0.476897</td>\n",
              "      <td>NaN</td>\n",
              "      <td>-0.576820</td>\n",
              "      <td>NaN</td>\n",
              "      <td>-5.003375</td>\n",
              "      <td>-37.913852</td>\n",
              "    </tr>\n",
              "    <tr>\n",
              "      <th>6</th>\n",
              "      <td>-7.113890</td>\n",
              "      <td>3.163686</td>\n",
              "      <td>NaN</td>\n",
              "      <td>0.832526</td>\n",
              "      <td>NaN</td>\n",
              "      <td>-6.500592</td>\n",
              "      <td>-23.741118</td>\n",
              "    </tr>\n",
              "    <tr>\n",
              "      <th>7</th>\n",
              "      <td>-0.460477</td>\n",
              "      <td>1.811576</td>\n",
              "      <td>NaN</td>\n",
              "      <td>-0.687152</td>\n",
              "      <td>NaN</td>\n",
              "      <td>-12.717867</td>\n",
              "      <td>-14.039603</td>\n",
              "    </tr>\n",
              "    <tr>\n",
              "      <th>8</th>\n",
              "      <td>-4.434366</td>\n",
              "      <td>1.919696</td>\n",
              "      <td>NaN</td>\n",
              "      <td>2.913292</td>\n",
              "      <td>NaN</td>\n",
              "      <td>-9.078455</td>\n",
              "      <td>-23.122893</td>\n",
              "    </tr>\n",
              "    <tr>\n",
              "      <th>9</th>\n",
              "      <td>-7.419374</td>\n",
              "      <td>4.003187</td>\n",
              "      <td>NaN</td>\n",
              "      <td>1.961815</td>\n",
              "      <td>NaN</td>\n",
              "      <td>-5.161921</td>\n",
              "      <td>-30.392307</td>\n",
              "    </tr>\n",
              "    <tr>\n",
              "      <th>10</th>\n",
              "      <td>6.148646</td>\n",
              "      <td>-1.181271</td>\n",
              "      <td>NaN</td>\n",
              "      <td>-0.845580</td>\n",
              "      <td>NaN</td>\n",
              "      <td>-11.307947</td>\n",
              "      <td>0.101679</td>\n",
              "    </tr>\n",
              "    <tr>\n",
              "      <th>11</th>\n",
              "      <td>-1.988850</td>\n",
              "      <td>-1.449227</td>\n",
              "      <td>NaN</td>\n",
              "      <td>0.826902</td>\n",
              "      <td>NaN</td>\n",
              "      <td>-5.535351</td>\n",
              "      <td>-18.748564</td>\n",
              "    </tr>\n",
              "    <tr>\n",
              "      <th>12</th>\n",
              "      <td>7.569087</td>\n",
              "      <td>-0.241163</td>\n",
              "      <td>NaN</td>\n",
              "      <td>-1.216595</td>\n",
              "      <td>NaN</td>\n",
              "      <td>-2.859816</td>\n",
              "      <td>-4.658720</td>\n",
              "    </tr>\n",
              "    <tr>\n",
              "      <th>13</th>\n",
              "      <td>-2.333488</td>\n",
              "      <td>5.394216</td>\n",
              "      <td>NaN</td>\n",
              "      <td>4.873960</td>\n",
              "      <td>NaN</td>\n",
              "      <td>3.367256</td>\n",
              "      <td>14.465894</td>\n",
              "    </tr>\n",
              "    <tr>\n",
              "      <th>14</th>\n",
              "      <td>-11.799676</td>\n",
              "      <td>-2.961813</td>\n",
              "      <td>NaN</td>\n",
              "      <td>0.779812</td>\n",
              "      <td>NaN</td>\n",
              "      <td>-3.846574</td>\n",
              "      <td>-66.928472</td>\n",
              "    </tr>\n",
              "    <tr>\n",
              "      <th>15</th>\n",
              "      <td>4.375432</td>\n",
              "      <td>-0.119966</td>\n",
              "      <td>NaN</td>\n",
              "      <td>0.043858</td>\n",
              "      <td>-0.347020</td>\n",
              "      <td>0.880032</td>\n",
              "      <td>-6.119577</td>\n",
              "    </tr>\n",
              "    <tr>\n",
              "      <th>16</th>\n",
              "      <td>3.677814</td>\n",
              "      <td>-5.059008</td>\n",
              "      <td>NaN</td>\n",
              "      <td>-0.339200</td>\n",
              "      <td>-0.905344</td>\n",
              "      <td>0.267167</td>\n",
              "      <td>-0.027864</td>\n",
              "    </tr>\n",
              "    <tr>\n",
              "      <th>17</th>\n",
              "      <td>0.980800</td>\n",
              "      <td>6.037507</td>\n",
              "      <td>NaN</td>\n",
              "      <td>1.356027</td>\n",
              "      <td>-0.871009</td>\n",
              "      <td>-9.340529</td>\n",
              "      <td>-7.221765</td>\n",
              "    </tr>\n",
              "    <tr>\n",
              "      <th>18</th>\n",
              "      <td>5.413667</td>\n",
              "      <td>2.046161</td>\n",
              "      <td>NaN</td>\n",
              "      <td>1.192531</td>\n",
              "      <td>-0.831636</td>\n",
              "      <td>-17.361673</td>\n",
              "      <td>-7.286225</td>\n",
              "    </tr>\n",
              "    <tr>\n",
              "      <th>19</th>\n",
              "      <td>13.779227</td>\n",
              "      <td>0.797328</td>\n",
              "      <td>NaN</td>\n",
              "      <td>1.050136</td>\n",
              "      <td>1.730029</td>\n",
              "      <td>-7.487210</td>\n",
              "      <td>20.165501</td>\n",
              "    </tr>\n",
              "    <tr>\n",
              "      <th>20</th>\n",
              "      <td>6.959910</td>\n",
              "      <td>-0.023091</td>\n",
              "      <td>NaN</td>\n",
              "      <td>0.276465</td>\n",
              "      <td>1.729196</td>\n",
              "      <td>-8.667381</td>\n",
              "      <td>-4.605250</td>\n",
              "    </tr>\n",
              "    <tr>\n",
              "      <th>21</th>\n",
              "      <td>-2.381354</td>\n",
              "      <td>0.275137</td>\n",
              "      <td>NaN</td>\n",
              "      <td>0.040952</td>\n",
              "      <td>-4.664043</td>\n",
              "      <td>-11.818938</td>\n",
              "      <td>-2.417554</td>\n",
              "    </tr>\n",
              "    <tr>\n",
              "      <th>22</th>\n",
              "      <td>0.598013</td>\n",
              "      <td>-1.030075</td>\n",
              "      <td>NaN</td>\n",
              "      <td>0.490533</td>\n",
              "      <td>-3.662214</td>\n",
              "      <td>-0.366133</td>\n",
              "      <td>-5.778775</td>\n",
              "    </tr>\n",
              "    <tr>\n",
              "      <th>23</th>\n",
              "      <td>-0.491433</td>\n",
              "      <td>-4.209465</td>\n",
              "      <td>NaN</td>\n",
              "      <td>0.024498</td>\n",
              "      <td>-4.825984</td>\n",
              "      <td>-7.016355</td>\n",
              "      <td>-28.965822</td>\n",
              "    </tr>\n",
              "    <tr>\n",
              "      <th>24</th>\n",
              "      <td>5.299924</td>\n",
              "      <td>4.069708</td>\n",
              "      <td>NaN</td>\n",
              "      <td>2.339350</td>\n",
              "      <td>-0.341389</td>\n",
              "      <td>3.438438</td>\n",
              "      <td>35.166792</td>\n",
              "    </tr>\n",
              "  </tbody>\n",
              "</table>\n",
              "</div>"
            ],
            "text/plain": [
              "    feature_1  feature_2  feature_3  feature_4  feature_5  feature_6  \\\n",
              "0    3.669506   2.863605        NaN   2.948632        NaN  -9.364512   \n",
              "1   13.505001   4.482330        NaN   0.770769        NaN  -3.706287   \n",
              "2   -5.736774  -1.030994        NaN   0.907981        NaN   5.332656   \n",
              "3   -0.019325   1.909841        NaN   0.137427        NaN   3.400036   \n",
              "4    6.079670   1.528345        NaN   0.746475        NaN -11.486688   \n",
              "5   -6.563463   0.476897        NaN  -0.576820        NaN  -5.003375   \n",
              "6   -7.113890   3.163686        NaN   0.832526        NaN  -6.500592   \n",
              "7   -0.460477   1.811576        NaN  -0.687152        NaN -12.717867   \n",
              "8   -4.434366   1.919696        NaN   2.913292        NaN  -9.078455   \n",
              "9   -7.419374   4.003187        NaN   1.961815        NaN  -5.161921   \n",
              "10   6.148646  -1.181271        NaN  -0.845580        NaN -11.307947   \n",
              "11  -1.988850  -1.449227        NaN   0.826902        NaN  -5.535351   \n",
              "12   7.569087  -0.241163        NaN  -1.216595        NaN  -2.859816   \n",
              "13  -2.333488   5.394216        NaN   4.873960        NaN   3.367256   \n",
              "14 -11.799676  -2.961813        NaN   0.779812        NaN  -3.846574   \n",
              "15   4.375432  -0.119966        NaN   0.043858  -0.347020   0.880032   \n",
              "16   3.677814  -5.059008        NaN  -0.339200  -0.905344   0.267167   \n",
              "17   0.980800   6.037507        NaN   1.356027  -0.871009  -9.340529   \n",
              "18   5.413667   2.046161        NaN   1.192531  -0.831636 -17.361673   \n",
              "19  13.779227   0.797328        NaN   1.050136   1.730029  -7.487210   \n",
              "20   6.959910  -0.023091        NaN   0.276465   1.729196  -8.667381   \n",
              "21  -2.381354   0.275137        NaN   0.040952  -4.664043 -11.818938   \n",
              "22   0.598013  -1.030075        NaN   0.490533  -3.662214  -0.366133   \n",
              "23  -0.491433  -4.209465        NaN   0.024498  -4.825984  -7.016355   \n",
              "24   5.299924   4.069708        NaN   2.339350  -0.341389   3.438438   \n",
              "\n",
              "    target_value  \n",
              "0       7.564543  \n",
              "1      32.866898  \n",
              "2     -20.922094  \n",
              "3       1.433380  \n",
              "4      11.867943  \n",
              "5     -37.913852  \n",
              "6     -23.741118  \n",
              "7     -14.039603  \n",
              "8     -23.122893  \n",
              "9     -30.392307  \n",
              "10      0.101679  \n",
              "11    -18.748564  \n",
              "12     -4.658720  \n",
              "13     14.465894  \n",
              "14    -66.928472  \n",
              "15     -6.119577  \n",
              "16     -0.027864  \n",
              "17     -7.221765  \n",
              "18     -7.286225  \n",
              "19     20.165501  \n",
              "20     -4.605250  \n",
              "21     -2.417554  \n",
              "22     -5.778775  \n",
              "23    -28.965822  \n",
              "24     35.166792  "
            ]
          },
          "execution_count": 69,
          "metadata": {},
          "output_type": "execute_result"
        }
      ],
      "source": [
        "nan_rows = data_happiness[data_happiness.isna().any(1)]\n",
        "nan_rows"
      ]
    },
    {
      "cell_type": "code",
      "execution_count": 70,
      "id": "32bded39",
      "metadata": {},
      "outputs": [],
      "source": [
        "X_train, X_test, Y_train, Y_test = split(data_happiness, 0.8, 0, 0.2, 6)"
      ]
    },
    {
      "cell_type": "code",
      "execution_count": 71,
      "id": "51f7a410",
      "metadata": {},
      "outputs": [
        {
          "data": {
            "text/html": [
              "<div>\n",
              "<style scoped>\n",
              "    .dataframe tbody tr th:only-of-type {\n",
              "        vertical-align: middle;\n",
              "    }\n",
              "\n",
              "    .dataframe tbody tr th {\n",
              "        vertical-align: top;\n",
              "    }\n",
              "\n",
              "    .dataframe thead th {\n",
              "        text-align: right;\n",
              "    }\n",
              "</style>\n",
              "<table border=\"1\" class=\"dataframe\">\n",
              "  <thead>\n",
              "    <tr style=\"text-align: right;\">\n",
              "      <th></th>\n",
              "      <th>feature_1</th>\n",
              "      <th>feature_2</th>\n",
              "      <th>feature_3</th>\n",
              "      <th>feature_4</th>\n",
              "      <th>feature_5</th>\n",
              "      <th>feature_6</th>\n",
              "      <th>target</th>\n",
              "    </tr>\n",
              "  </thead>\n",
              "  <tbody>\n",
              "    <tr>\n",
              "      <th>35</th>\n",
              "      <td>4.031313</td>\n",
              "      <td>-2.081522</td>\n",
              "      <td>8.138464</td>\n",
              "      <td>0.589899</td>\n",
              "      <td>4.300039</td>\n",
              "      <td>-4.069205</td>\n",
              "      <td>7.588145</td>\n",
              "    </tr>\n",
              "    <tr>\n",
              "      <th>75</th>\n",
              "      <td>3.711264</td>\n",
              "      <td>2.883610</td>\n",
              "      <td>9.639910</td>\n",
              "      <td>0.072790</td>\n",
              "      <td>-4.931949</td>\n",
              "      <td>-8.884144</td>\n",
              "      <td>-11.652328</td>\n",
              "    </tr>\n",
              "    <tr>\n",
              "      <th>19</th>\n",
              "      <td>13.779227</td>\n",
              "      <td>0.797328</td>\n",
              "      <td>NaN</td>\n",
              "      <td>1.050136</td>\n",
              "      <td>1.730029</td>\n",
              "      <td>-7.487210</td>\n",
              "      <td>20.165501</td>\n",
              "    </tr>\n",
              "    <tr>\n",
              "      <th>14</th>\n",
              "      <td>-11.799676</td>\n",
              "      <td>-2.961813</td>\n",
              "      <td>NaN</td>\n",
              "      <td>0.779812</td>\n",
              "      <td>NaN</td>\n",
              "      <td>-3.846574</td>\n",
              "      <td>-66.928472</td>\n",
              "    </tr>\n",
              "    <tr>\n",
              "      <th>98</th>\n",
              "      <td>7.060369</td>\n",
              "      <td>4.293074</td>\n",
              "      <td>3.590226</td>\n",
              "      <td>-0.066123</td>\n",
              "      <td>-2.039099</td>\n",
              "      <td>-3.643987</td>\n",
              "      <td>18.831133</td>\n",
              "    </tr>\n",
              "    <tr>\n",
              "      <th>...</th>\n",
              "      <td>...</td>\n",
              "      <td>...</td>\n",
              "      <td>...</td>\n",
              "      <td>...</td>\n",
              "      <td>...</td>\n",
              "      <td>...</td>\n",
              "      <td>...</td>\n",
              "    </tr>\n",
              "    <tr>\n",
              "      <th>15</th>\n",
              "      <td>4.375432</td>\n",
              "      <td>-0.119966</td>\n",
              "      <td>NaN</td>\n",
              "      <td>0.043858</td>\n",
              "      <td>-0.347020</td>\n",
              "      <td>0.880032</td>\n",
              "      <td>-6.119577</td>\n",
              "    </tr>\n",
              "    <tr>\n",
              "      <th>0</th>\n",
              "      <td>3.669506</td>\n",
              "      <td>2.863605</td>\n",
              "      <td>NaN</td>\n",
              "      <td>2.948632</td>\n",
              "      <td>NaN</td>\n",
              "      <td>-9.364512</td>\n",
              "      <td>7.564543</td>\n",
              "    </tr>\n",
              "    <tr>\n",
              "      <th>57</th>\n",
              "      <td>0.359445</td>\n",
              "      <td>3.218704</td>\n",
              "      <td>4.231046</td>\n",
              "      <td>0.244294</td>\n",
              "      <td>0.017648</td>\n",
              "      <td>4.255268</td>\n",
              "      <td>-3.373316</td>\n",
              "    </tr>\n",
              "    <tr>\n",
              "      <th>9</th>\n",
              "      <td>-7.419374</td>\n",
              "      <td>4.003187</td>\n",
              "      <td>NaN</td>\n",
              "      <td>1.961815</td>\n",
              "      <td>NaN</td>\n",
              "      <td>-5.161921</td>\n",
              "      <td>-30.392307</td>\n",
              "    </tr>\n",
              "    <tr>\n",
              "      <th>97</th>\n",
              "      <td>13.162143</td>\n",
              "      <td>0.164868</td>\n",
              "      <td>12.263580</td>\n",
              "      <td>3.105625</td>\n",
              "      <td>-0.426276</td>\n",
              "      <td>-1.829889</td>\n",
              "      <td>43.654064</td>\n",
              "    </tr>\n",
              "  </tbody>\n",
              "</table>\n",
              "<p>80 rows × 7 columns</p>\n",
              "</div>"
            ],
            "text/plain": [
              "    feature_1  feature_2  feature_3  feature_4  feature_5  feature_6  \\\n",
              "35   4.031313  -2.081522   8.138464   0.589899   4.300039  -4.069205   \n",
              "75   3.711264   2.883610   9.639910   0.072790  -4.931949  -8.884144   \n",
              "19  13.779227   0.797328        NaN   1.050136   1.730029  -7.487210   \n",
              "14 -11.799676  -2.961813        NaN   0.779812        NaN  -3.846574   \n",
              "98   7.060369   4.293074   3.590226  -0.066123  -2.039099  -3.643987   \n",
              "..        ...        ...        ...        ...        ...        ...   \n",
              "15   4.375432  -0.119966        NaN   0.043858  -0.347020   0.880032   \n",
              "0    3.669506   2.863605        NaN   2.948632        NaN  -9.364512   \n",
              "57   0.359445   3.218704   4.231046   0.244294   0.017648   4.255268   \n",
              "9   -7.419374   4.003187        NaN   1.961815        NaN  -5.161921   \n",
              "97  13.162143   0.164868  12.263580   3.105625  -0.426276  -1.829889   \n",
              "\n",
              "       target  \n",
              "35   7.588145  \n",
              "75 -11.652328  \n",
              "19  20.165501  \n",
              "14 -66.928472  \n",
              "98  18.831133  \n",
              "..        ...  \n",
              "15  -6.119577  \n",
              "0    7.564543  \n",
              "57  -3.373316  \n",
              "9  -30.392307  \n",
              "97  43.654064  \n",
              "\n",
              "[80 rows x 7 columns]"
            ]
          },
          "execution_count": 71,
          "metadata": {},
          "output_type": "execute_result"
        }
      ],
      "source": [
        "df_train = pd.concat([X_train, Y_train], axis=1)\n",
        "df_train"
      ]
    },
    {
      "cell_type": "markdown",
      "id": "9ccf9f32",
      "metadata": {},
      "source": [
        "Elimino las filas donde tengo más de un NaN"
      ]
    },
    {
      "cell_type": "code",
      "execution_count": 72,
      "id": "f45538b6",
      "metadata": {},
      "outputs": [
        {
          "data": {
            "text/html": [
              "<div>\n",
              "<style scoped>\n",
              "    .dataframe tbody tr th:only-of-type {\n",
              "        vertical-align: middle;\n",
              "    }\n",
              "\n",
              "    .dataframe tbody tr th {\n",
              "        vertical-align: top;\n",
              "    }\n",
              "\n",
              "    .dataframe thead th {\n",
              "        text-align: right;\n",
              "    }\n",
              "</style>\n",
              "<table border=\"1\" class=\"dataframe\">\n",
              "  <thead>\n",
              "    <tr style=\"text-align: right;\">\n",
              "      <th></th>\n",
              "      <th>feature_1</th>\n",
              "      <th>feature_2</th>\n",
              "      <th>feature_3</th>\n",
              "      <th>feature_4</th>\n",
              "      <th>feature_5</th>\n",
              "      <th>feature_6</th>\n",
              "      <th>target</th>\n",
              "    </tr>\n",
              "  </thead>\n",
              "  <tbody>\n",
              "    <tr>\n",
              "      <th>19</th>\n",
              "      <td>13.779227</td>\n",
              "      <td>0.797328</td>\n",
              "      <td>NaN</td>\n",
              "      <td>1.050136</td>\n",
              "      <td>1.730029</td>\n",
              "      <td>-7.487210</td>\n",
              "      <td>20.165501</td>\n",
              "    </tr>\n",
              "    <tr>\n",
              "      <th>16</th>\n",
              "      <td>3.677814</td>\n",
              "      <td>-5.059008</td>\n",
              "      <td>NaN</td>\n",
              "      <td>-0.339200</td>\n",
              "      <td>-0.905344</td>\n",
              "      <td>0.267167</td>\n",
              "      <td>-0.027864</td>\n",
              "    </tr>\n",
              "    <tr>\n",
              "      <th>24</th>\n",
              "      <td>5.299924</td>\n",
              "      <td>4.069708</td>\n",
              "      <td>NaN</td>\n",
              "      <td>2.339350</td>\n",
              "      <td>-0.341389</td>\n",
              "      <td>3.438438</td>\n",
              "      <td>35.166792</td>\n",
              "    </tr>\n",
              "    <tr>\n",
              "      <th>17</th>\n",
              "      <td>0.980800</td>\n",
              "      <td>6.037507</td>\n",
              "      <td>NaN</td>\n",
              "      <td>1.356027</td>\n",
              "      <td>-0.871009</td>\n",
              "      <td>-9.340529</td>\n",
              "      <td>-7.221765</td>\n",
              "    </tr>\n",
              "    <tr>\n",
              "      <th>22</th>\n",
              "      <td>0.598013</td>\n",
              "      <td>-1.030075</td>\n",
              "      <td>NaN</td>\n",
              "      <td>0.490533</td>\n",
              "      <td>-3.662214</td>\n",
              "      <td>-0.366133</td>\n",
              "      <td>-5.778775</td>\n",
              "    </tr>\n",
              "    <tr>\n",
              "      <th>21</th>\n",
              "      <td>-2.381354</td>\n",
              "      <td>0.275137</td>\n",
              "      <td>NaN</td>\n",
              "      <td>0.040952</td>\n",
              "      <td>-4.664043</td>\n",
              "      <td>-11.818938</td>\n",
              "      <td>-2.417554</td>\n",
              "    </tr>\n",
              "    <tr>\n",
              "      <th>23</th>\n",
              "      <td>-0.491433</td>\n",
              "      <td>-4.209465</td>\n",
              "      <td>NaN</td>\n",
              "      <td>0.024498</td>\n",
              "      <td>-4.825984</td>\n",
              "      <td>-7.016355</td>\n",
              "      <td>-28.965822</td>\n",
              "    </tr>\n",
              "    <tr>\n",
              "      <th>18</th>\n",
              "      <td>5.413667</td>\n",
              "      <td>2.046161</td>\n",
              "      <td>NaN</td>\n",
              "      <td>1.192531</td>\n",
              "      <td>-0.831636</td>\n",
              "      <td>-17.361673</td>\n",
              "      <td>-7.286225</td>\n",
              "    </tr>\n",
              "    <tr>\n",
              "      <th>20</th>\n",
              "      <td>6.959910</td>\n",
              "      <td>-0.023091</td>\n",
              "      <td>NaN</td>\n",
              "      <td>0.276465</td>\n",
              "      <td>1.729196</td>\n",
              "      <td>-8.667381</td>\n",
              "      <td>-4.605250</td>\n",
              "    </tr>\n",
              "    <tr>\n",
              "      <th>15</th>\n",
              "      <td>4.375432</td>\n",
              "      <td>-0.119966</td>\n",
              "      <td>NaN</td>\n",
              "      <td>0.043858</td>\n",
              "      <td>-0.347020</td>\n",
              "      <td>0.880032</td>\n",
              "      <td>-6.119577</td>\n",
              "    </tr>\n",
              "  </tbody>\n",
              "</table>\n",
              "</div>"
            ],
            "text/plain": [
              "    feature_1  feature_2  feature_3  feature_4  feature_5  feature_6  \\\n",
              "19  13.779227   0.797328        NaN   1.050136   1.730029  -7.487210   \n",
              "16   3.677814  -5.059008        NaN  -0.339200  -0.905344   0.267167   \n",
              "24   5.299924   4.069708        NaN   2.339350  -0.341389   3.438438   \n",
              "17   0.980800   6.037507        NaN   1.356027  -0.871009  -9.340529   \n",
              "22   0.598013  -1.030075        NaN   0.490533  -3.662214  -0.366133   \n",
              "21  -2.381354   0.275137        NaN   0.040952  -4.664043 -11.818938   \n",
              "23  -0.491433  -4.209465        NaN   0.024498  -4.825984  -7.016355   \n",
              "18   5.413667   2.046161        NaN   1.192531  -0.831636 -17.361673   \n",
              "20   6.959910  -0.023091        NaN   0.276465   1.729196  -8.667381   \n",
              "15   4.375432  -0.119966        NaN   0.043858  -0.347020   0.880032   \n",
              "\n",
              "       target  \n",
              "19  20.165501  \n",
              "16  -0.027864  \n",
              "24  35.166792  \n",
              "17  -7.221765  \n",
              "22  -5.778775  \n",
              "21  -2.417554  \n",
              "23 -28.965822  \n",
              "18  -7.286225  \n",
              "20  -4.605250  \n",
              "15  -6.119577  "
            ]
          },
          "execution_count": 72,
          "metadata": {},
          "output_type": "execute_result"
        }
      ],
      "source": [
        "df_train = df_train.dropna(thresh=6)\n",
        "nan_rows = df_train[df_train.isna().any(1)]\n",
        "nan_rows"
      ]
    },
    {
      "cell_type": "code",
      "execution_count": 73,
      "id": "20354f41",
      "metadata": {},
      "outputs": [],
      "source": [
        "X_train = pd.concat([df_train.feature_1, df_train.feature_2, df_train.feature_3, df_train.feature_4, df_train.feature_5, df_train.feature_6], axis=1)\n",
        "Y_train = df_train.target"
      ]
    },
    {
      "cell_type": "markdown",
      "id": "dd23ba80",
      "metadata": {},
      "source": [
        "Las filas con un NaN reemplazo por la media de ese feature"
      ]
    },
    {
      "cell_type": "code",
      "execution_count": 74,
      "id": "7710fafa",
      "metadata": {},
      "outputs": [
        {
          "data": {
            "text/plain": [
              "feature_1    0\n",
              "feature_2    0\n",
              "feature_3    0\n",
              "feature_4    0\n",
              "feature_5    0\n",
              "feature_6    0\n",
              "dtype: int64"
            ]
          },
          "execution_count": 74,
          "metadata": {},
          "output_type": "execute_result"
        }
      ],
      "source": [
        "X_train = mean_imputer(X_train, \"feature_3\")\n",
        "X_train.isna().sum()"
      ]
    },
    {
      "cell_type": "code",
      "execution_count": 75,
      "id": "75b548f7",
      "metadata": {},
      "outputs": [
        {
          "data": {
            "text/plain": [
              "(array([ 3.05755026,  1.32164539,  0.32502674,  5.61908352, -0.08408363,\n",
              "         1.20489546]),\n",
              " 0.9200877297333651,\n",
              " -9.743663228042596)"
            ]
          },
          "execution_count": 75,
          "metadata": {},
          "output_type": "execute_result"
        }
      ],
      "source": [
        "lr = LinearRegression(fit_intercept=True)\n",
        "lr.fit(X_train,Y_train)\n",
        "lr.coef_, lr.score(X_train,Y_train), lr.intercept_"
      ]
    },
    {
      "cell_type": "code",
      "execution_count": 76,
      "id": "75625db8",
      "metadata": {},
      "outputs": [],
      "source": [
        "df_test = pd.concat([X_test, Y_test], axis=1)\n",
        "df_test = df_test.dropna()\n",
        "X_test = pd.concat([df_test.feature_1, df_test.feature_2, df_test.feature_3, df_test.feature_4, df_test.feature_5, df_test.feature_6], axis=1)\n",
        "Y_test = df_test.target "
      ]
    },
    {
      "cell_type": "code",
      "execution_count": 78,
      "id": "0c217864",
      "metadata": {},
      "outputs": [
        {
          "data": {
            "text/plain": [
              "0.8451228732879387"
            ]
          },
          "execution_count": 78,
          "metadata": {},
          "output_type": "execute_result"
        }
      ],
      "source": [
        "lr.score(X_test, Y_test)"
      ]
    },
    {
      "cell_type": "markdown",
      "id": "a09683ee",
      "metadata": {},
      "source": [
        "\\begin{equation}\n",
        "\n",
        "    \\begin{array}{rcl}\n",
        "        \\text{Target} &=& -10.576 +\n",
        "                                3.016 \\cdot \\text{feature1} +\n",
        "                                1.309 \\cdot \\text{feature2} -\n",
        "                                0.327 \\cdot \\text{feature3} +\n",
        "                                5.209 \\cdot \\text{feature4} - \\\\\n",
        "                            & & 0.412 \\cdot \\text{feature5} +\n",
        "                                1.027 \\cdot \\text{feature6} \n",
        "                                \n",
        "    \\end{array}\n",
        "\\end{equation}"
      ]
    },
    {
      "cell_type": "markdown",
      "id": "hCNvuKcF8-fM",
      "metadata": {
        "id": "hCNvuKcF8-fM"
      },
      "source": [
        "## Ejercicio 7\n",
        "\n",
        "Por último, manteniendo un dataset limpio como el que generamos previo al ejercio 1, utilizando `make_regression` de `scikit-learn`. Analizar que pasa si comenzamos a modificar el parametro `noise`"
      ]
    },
    {
      "cell_type": "code",
      "execution_count": 80,
      "id": "Os_Et7Ww9V6I",
      "metadata": {
        "id": "Os_Et7Ww9V6I"
      },
      "outputs": [
        {
          "data": {
            "image/png": "[encoded data removed]",
            "text/plain": [
              "<Figure size 432x288 with 1 Axes>"
            ]
          },
          "metadata": {
            "needs_background": "light"
          },
          "output_type": "display_data"
        },
        {
          "data": {
            "image/png": "[encoded data removed]",
            "text/plain": [
              "<Figure size 432x288 with 1 Axes>"
            ]
          },
          "metadata": {
            "needs_background": "light"
          },
          "output_type": "display_data"
        },
        {
          "data": {
            "image/png": "[encoded data removed]",
            "text/plain": [
              "<Figure size 432x288 with 1 Axes>"
            ]
          },
          "metadata": {
            "needs_background": "light"
          },
          "output_type": "display_data"
        },
        {
          "data": {
            "image/png": "[encoded data removed]",
            "text/plain": [
              "<Figure size 432x288 with 1 Axes>"
            ]
          },
          "metadata": {
            "needs_background": "light"
          },
          "output_type": "display_data"
        }
      ],
      "source": [
        "# Creamos un dataset de prueba\n",
        "X0, y0 = make_regression(n_samples = 1000,\n",
        "                       n_features = 1,\n",
        "                       noise = 0,\n",
        "                       n_informative = 1,\n",
        "                       random_state = 42)\n",
        "\n",
        "X2, y2 = make_regression(n_samples = 1000,\n",
        "                       n_features = 1,\n",
        "                       noise = 2,\n",
        "                       n_informative = 1,\n",
        "                       random_state = 42)\n",
        "\n",
        "X5, y5 = make_regression(n_samples = 1000,\n",
        "                       n_features = 1,\n",
        "                       noise = 5,\n",
        "                       n_informative = 1,\n",
        "                       random_state = 42)\n",
        "\n",
        "X10, y10 = make_regression(n_samples = 1000,\n",
        "                       n_features = 1,\n",
        "                       noise = 10,\n",
        "                       n_informative = 1,\n",
        "                       random_state = 42)\n",
        "dfs = [pd.DataFrame(np.append(X0,y0.reshape(-1,1),axis=1)),\n",
        "        pd.DataFrame(np.append(X2,y2.reshape(-1,1),axis=1)),\n",
        "        pd.DataFrame(np.append(X5,y5.reshape(-1,1),axis=1)),\n",
        "        pd.DataFrame(np.append(X10,y10.reshape(-1,1),axis=1))]\n",
        "\n",
        "for df in dfs:\n",
        "\n",
        "    new_col = []\n",
        "    i = 0\n",
        "    for col in df.columns:\n",
        "        if i ==  len(df.columns) - 1:\n",
        "            new_col.append(\"target\")\n",
        "        else :\n",
        "            new_col.append(\"feature_\" + str(i+1))\n",
        "            \n",
        "        i += 1\n",
        "        \n",
        "    df.columns = new_col\n",
        "    f ,ax = plt.subplots()\n",
        "    ax.scatter(df.feature_1,df.target,s=10)\n",
        "\n"
      ]
    },
    {
      "cell_type": "code",
      "execution_count": 81,
      "id": "da4899b4",
      "metadata": {},
      "outputs": [
        {
          "data": {
            "image/png": "[encoded data removed]",
            "text/plain": [
              "<Figure size 432x288 with 1 Axes>"
            ]
          },
          "metadata": {
            "needs_background": "light"
          },
          "output_type": "display_data"
        },
        {
          "name": "stdout",
          "output_type": "stream",
          "text": [
            "b0 = [[16.74825823]] ; score = 1.0\n"
          ]
        },
        {
          "data": {
            "image/png": "[encoded data removed]",
            "text/plain": [
              "<Figure size 432x288 with 1 Axes>"
            ]
          },
          "metadata": {
            "needs_background": "light"
          },
          "output_type": "display_data"
        },
        {
          "name": "stdout",
          "output_type": "stream",
          "text": [
            "b0 = [[16.72531579]] ; score = 0.9855792900364626\n"
          ]
        },
        {
          "data": {
            "image/png": "[encoded data removed]",
            "text/plain": [
              "<Figure size 432x288 with 1 Axes>"
            ]
          },
          "metadata": {
            "needs_background": "light"
          },
          "output_type": "display_data"
        },
        {
          "name": "stdout",
          "output_type": "stream",
          "text": [
            "b0 = [[16.69090214]] ; score = 0.9158971293727719\n"
          ]
        },
        {
          "data": {
            "image/png": "[encoded data removed]",
            "text/plain": [
              "<Figure size 432x288 with 1 Axes>"
            ]
          },
          "metadata": {
            "needs_background": "light"
          },
          "output_type": "display_data"
        },
        {
          "name": "stdout",
          "output_type": "stream",
          "text": [
            "b0 = [[16.63354605]] ; score = 0.7300121896115735\n"
          ]
        }
      ],
      "source": [
        "\n",
        "for df in dfs:\n",
        "    lr =LinearRegression(fit_intercept=True)\n",
        "    lr.fit(np.array(df.feature_1).reshape(-1,1),np.array(df.target).reshape(-1,1))\n",
        "    f ,ax = plt.subplots()\n",
        "    ax.scatter(df.feature_1,df.target,s=10)\n",
        "    ax.plot(np.linspace(-4,4,1000),lr.predict(xspace.reshape(1000,1)), color='red')\n",
        "    plt.show()\n",
        "    print(\"b0 = {} ; score = {}\".format(lr.coef_, lr.score(np.array(df.feature_1).reshape(-1,1),np.array(df.target).reshape(-1,1))))\n"
      ]
    },
    {
      "cell_type": "markdown",
      "id": "9f9fa46d",
      "metadata": {},
      "source": [
        "Conclusones:\n",
        "Se agrega ruido gaussiano, afectando mínimamente el valor de los coeficientes de la regresión, pero con mayor peso en el coeficiente de determinación."
      ]
    },
    {
      "cell_type": "markdown",
      "id": "08054482",
      "metadata": {},
      "source": []
    },
    {
      "cell_type": "markdown",
      "id": "2be66065",
      "metadata": {},
      "source": [
        "# Segunda parte"
      ]
    },
    {
      "cell_type": "markdown",
      "id": "hCNvuKcF8-fM",
      "metadata": {
        "id": "hCNvuKcF8-fM"
      },
      "source": [
        "\n",
        "## Ejercicio 8\n",
        "\n",
        "Vamos a tomar dos dataframes creados uno en el ejercicio 4 y otro del 5, utilizando el modelo `HuberRegressor` en `linear_model` de `scikit-learn`. Vamos a entrenar dos modelos robustos, el modelo mejora?\n",
        "\n",
        "***Nota:*** Utilizar los valores por defecto del modelo"
      ]
    },
    {
      "cell_type": "code",
      "execution_count": null,
      "id": "Os_Et7Ww9V6I",
      "metadata": {
        "id": "Os_Et7Ww9V6I"
      },
      "outputs": [],
      "source": []
    },
    {
      "cell_type": "markdown",
      "id": "hCNvuKcF8-fM",
      "metadata": {
        "id": "hCNvuKcF8-fM"
      },
      "source": [
        "## Ejercicio 9 (Opcional)\n",
        "\n",
        "Utilizando este esta funcion de Gradiente descendente de como idea, codear su implementación de Sthocastic Gradient Descent (SGD)"
      ]
    },
    {
      "cell_type": "markdown",
      "id": "e7640f2b",
      "metadata": {},
      "source": [
        "```python\n",
        "\n",
        "def ssr_gradient(x, y, b):\n",
        "    res = b[0] + b[1] * x - y\n",
        "    return res.mean(), (res * x).mean()\n",
        "\n",
        "def gradient_descent(\n",
        "    x: list,\n",
        "    y: list,\n",
        "    start: list,\n",
        "    learn_rate: float = 0.1,\n",
        "    n_iter: int = 50,\n",
        "    tolerance: float =1e-06\n",
        "):\n",
        "    vector = start\n",
        "    for _ in range(n_iter):\n",
        "        diff = -learn_rate * np.array(ssr_gradient(x, y, vector))\n",
        "        if np.all(np.abs(diff) <= tolerance):\n",
        "            break\n",
        "        vector += diff\n",
        "    return vector\n",
        "```"
      ]
    },
    {
      "cell_type": "code",
      "execution_count": null,
      "id": "07276b0c",
      "metadata": {},
      "outputs": [],
      "source": []
    },
    {
      "cell_type": "markdown",
      "id": "614867ea",
      "metadata": {},
      "source": [
        "# Tercera Parte\n",
        "\n",
        "Vamos a crear un nuevo dataset, para ello vamos a usar el metodo `make_classification` de `sklearn`"
      ]
    },
    {
      "cell_type": "code",
      "execution_count": null,
      "id": "fb57518c",
      "metadata": {},
      "outputs": [],
      "source": [
        "from sklearn.datasets import make_classification\n",
        "from sklearn.linear_model import LogisticRegression\n",
        "\n",
        "X, y = make_classification(\n",
        "    n_samples = 1000,\n",
        "    n_features=2,\n",
        "    n_redundant=0,\n",
        "    n_informative=2,\n",
        "    random_state=1,\n",
        "    n_classes=2,\n",
        "    n_clusters_per_class=1\n",
        ")"
      ]
    },
    {
      "cell_type": "markdown",
      "id": "c2034612",
      "metadata": {},
      "source": [
        "## Ejercicio 10\n",
        "\n",
        "Con el dataset creado para clasficación vamos a utilizar el modelo `LogisticRegression`. Vamos a entrenar modelos variando los parámetros en particular `tol` y `max_iter`.\n",
        "¿Cómo cambian estas regresiones?\n"
      ]
    },
    {
      "cell_type": "code",
      "execution_count": null,
      "id": "bea80317",
      "metadata": {},
      "outputs": [],
      "source": []
    },
    {
      "cell_type": "markdown",
      "id": "3a762700",
      "metadata": {},
      "source": [
        "## Ejercicio 11\n",
        "\n",
        "Vamos a utilizar ahora el dataset de [iris](https://scikit-learn.org/stable/modules/generated/sklearn.datasets.load_iris.html). Utilizando `LogisticRegression` vamos a realizar un clasificador multiclases.\n",
        "¿Cómo se compara con el modelo de `Perceptron`?"
      ]
    },
    {
      "cell_type": "code",
      "execution_count": null,
      "id": "81e5c649",
      "metadata": {},
      "outputs": [],
      "source": [
        "from sklearn.datasets import load_iris\n",
        "X,y = load_iris(return_X_y=True, as_frame=True)"
      ]
    },
    {
      "cell_type": "markdown",
      "id": "24bd540e",
      "metadata": {},
      "source": [
        "HINT: La clase perceptron la pueden utilizar así\n",
        "\n",
        "```python\n",
        "from sklearn.linear_model import Perceptron\n",
        "X, y = load_iris(return_X_y=True, as_frame=True)\n",
        "clf = Perceptron(tol=1e-3, random_state=0)\n",
        "clf.fit(X, y)\n",
        "\n",
        "clf.score(X, y)\n",
        "```"
      ]
    },
    {
      "cell_type": "code",
      "execution_count": null,
      "id": "0ac0f917",
      "metadata": {},
      "outputs": [],
      "source": []
    }
  ],
  "metadata": {
    "colab": {
      "collapsed_sections": [],
      "name": "Practica_clase_3.ipynb",
      "provenance": []
    },
    "kernelspec": {
      "display_name": "Python 3.9.12 ('base')",
      "language": "python",
      "name": "python3"
    },
    "language_info": {
      "codemirror_mode": {
        "name": "ipython",
        "version": 3
      },
      "file_extension": ".py",
      "mimetype": "text/x-python",
      "name": "python",
      "nbconvert_exporter": "python",
      "pygments_lexer": "ipython3",
      "version": "3.9.12"
    },
    "vscode": {
      "interpreter": {
        "hash": "8cfbdbb1ba49b40f456b14fe999ab6204287b57d4770ad8a378e2797922f99aa"
      }
    }
  },
  "nbformat": 4,
  "nbformat_minor": 5
}
